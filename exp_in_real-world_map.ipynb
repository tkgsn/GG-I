{
 "cells": [
  {
   "cell_type": "code",
   "execution_count": 1,
   "metadata": {},
   "outputs": [
    {
     "name": "stderr",
     "output_type": "stream",
     "text": [
      "/home/takagi/workspace/venv/lib/python3.8/site-packages/pyproj/crs/crs.py:279: FutureWarning: '+init=<authority>:<code>' syntax is deprecated. '<authority>:<code>' is the preferred initialization method. When making the change, be mindful of axis order changes: https://pyproj4.github.io/pyproj/stable/gotchas.html#axis-order-changes-in-proj-6\n",
      "  projstring = _prepare_from_string(projparams)\n",
      "/home/takagi/workspace/venv/lib/python3.8/site-packages/pyproj/crs/crs.py:279: FutureWarning: '+init=<authority>:<code>' syntax is deprecated. '<authority>:<code>' is the preferred initialization method. When making the change, be mindful of axis order changes: https://pyproj4.github.io/pyproj/stable/gotchas.html#axis-order-changes-in-proj-6\n",
      "  projstring = _prepare_from_string(projparams)\n",
      "/home/takagi/workspace/venv/lib/python3.8/site-packages/pyproj/crs/crs.py:279: FutureWarning: '+init=<authority>:<code>' syntax is deprecated. '<authority>:<code>' is the preferred initialization method. When making the change, be mindful of axis order changes: https://pyproj4.github.io/pyproj/stable/gotchas.html#axis-order-changes-in-proj-6\n",
      "  projstring = _prepare_from_string(projparams)\n",
      "/home/takagi/workspace/venv/lib/python3.8/site-packages/pyproj/crs/crs.py:279: FutureWarning: '+init=<authority>:<code>' syntax is deprecated. '<authority>:<code>' is the preferred initialization method. When making the change, be mindful of axis order changes: https://pyproj4.github.io/pyproj/stable/gotchas.html#axis-order-changes-in-proj-6\n",
      "  projstring = _prepare_from_string(projparams)\n"
     ]
    }
   ],
   "source": [
    "import src.graph_maker as GraphMaker\n",
    "import src.data_loader as DataLoader\n",
    "import src.Mechanisms as Mec\n",
    "import matplotlib.pyplot as plt\n",
    "\n",
    "def score(mec):\n",
    "    sql = mec.compute_SQL()\n",
    "    ae = mec.compute_AE()\n",
    "    return sql, ae"
   ]
  },
  {
   "cell_type": "code",
   "execution_count": null,
   "metadata": {},
   "outputs": [],
   "source": [
    "lat, lon = (39.898740, 140.247766)\n",
    "distance = 2000\n",
    "name = \"Akita\"\n",
    "\n",
    "mgm = GraphMaker.MapGraphMaker()\n",
    "mgm.make_graph(lat, lon, distance, \"Akita\")\n",
    "mgm.cp_dict_sd()\n",
    "mgm.save()\n",
    "mgm.plot_graph()\n",
    "\n",
    "data_loader = DataLoader.DataLoader(name, prior=\"uniform\")\n",
    "\n",
    "GEM = Mec.GraphExponentialMechanism(data_loader)\n",
    "PLMG = Mec.PlanarLaplaceMechanismOnGraph(data_loader)"
   ]
  },
  {
   "cell_type": "code",
   "execution_count": null,
   "metadata": {},
   "outputs": [],
   "source": [
    "epsilons = [0.01, 0.005, 0.003, 0.002, 0.001]\n",
    "gem_sqls = []\n",
    "gem_aes = []\n",
    "plmg_sqls = []\n",
    "plmg_aes = []\n",
    "for epsilon in epsilons:\n",
    "    GEM.build_distribution(epsilon)\n",
    "    PLMG.build_distribution(epsilon)\n",
    "    \n",
    "    gem_sql, gem_ae = score(GEM)\n",
    "    gem_sqls.append(gem_sql)\n",
    "    gem_aes.append(gem_ae)\n",
    "    \n",
    "    plmg_sql, plmg_ae = score(PLMG)\n",
    "    plmg_sqls.append(plmg_sql)\n",
    "    plmg_aes.append(plmg_ae)"
   ]
  },
  {
   "cell_type": "code",
   "execution_count": null,
   "metadata": {},
   "outputs": [],
   "source": [
    "plt.plot(gem_aes, gem_sqls, label=\"GEM\")\n",
    "plt.plot(plmg_aes, plmg_sqls, label=\"PLMG\")\n",
    "plt.legend()\n",
    "plt.xlabel(\"AE\")\n",
    "plt.ylabel(\"SQL\")\n",
    "plt.show()"
   ]
  }
 ],
 "metadata": {
  "kernelspec": {
   "display_name": "Python 3",
   "language": "python",
   "name": "python3"
  },
  "language_info": {
   "codemirror_mode": {
    "name": "ipython",
    "version": 3
   },
   "file_extension": ".py",
   "mimetype": "text/x-python",
   "name": "python",
   "nbconvert_exporter": "python",
   "pygments_lexer": "ipython3",
   "version": "3.8.2"
  }
 },
 "nbformat": 4,
 "nbformat_minor": 4
}
