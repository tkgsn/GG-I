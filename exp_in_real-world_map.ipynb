{
 "cells": [
  {
   "cell_type": "code",
   "execution_count": 1,
   "metadata": {},
   "outputs": [
    {
     "name": "stderr",
     "output_type": "stream",
     "text": [
      "/home/takagi/workspace/venv/lib/python3.8/site-packages/pyproj/crs/crs.py:279: FutureWarning: '+init=<authority>:<code>' syntax is deprecated. '<authority>:<code>' is the preferred initialization method. When making the change, be mindful of axis order changes: https://pyproj4.github.io/pyproj/stable/gotchas.html#axis-order-changes-in-proj-6\n",
      "  projstring = _prepare_from_string(projparams)\n",
      "/home/takagi/workspace/venv/lib/python3.8/site-packages/pyproj/crs/crs.py:279: FutureWarning: '+init=<authority>:<code>' syntax is deprecated. '<authority>:<code>' is the preferred initialization method. When making the change, be mindful of axis order changes: https://pyproj4.github.io/pyproj/stable/gotchas.html#axis-order-changes-in-proj-6\n",
      "  projstring = _prepare_from_string(projparams)\n",
      "/home/takagi/workspace/venv/lib/python3.8/site-packages/pyproj/crs/crs.py:279: FutureWarning: '+init=<authority>:<code>' syntax is deprecated. '<authority>:<code>' is the preferred initialization method. When making the change, be mindful of axis order changes: https://pyproj4.github.io/pyproj/stable/gotchas.html#axis-order-changes-in-proj-6\n",
      "  projstring = _prepare_from_string(projparams)\n",
      "/home/takagi/workspace/venv/lib/python3.8/site-packages/pyproj/crs/crs.py:279: FutureWarning: '+init=<authority>:<code>' syntax is deprecated. '<authority>:<code>' is the preferred initialization method. When making the change, be mindful of axis order changes: https://pyproj4.github.io/pyproj/stable/gotchas.html#axis-order-changes-in-proj-6\n",
      "  projstring = _prepare_from_string(projparams)\n"
     ]
    }
   ],
   "source": [
    "import src.graph_maker as GraphMaker\n",
    "import src.data_loader as DataLoader\n",
    "import src.Mechanisms as Mec\n",
    "import matplotlib.pyplot as plt\n",
    "\n",
    "def score(mec):\n",
    "    sql = mec.compute_SQL()\n",
    "    ae = mec.compute_AE()\n",
    "    return sql, ae"
   ]
  },
  {
   "cell_type": "code",
   "execution_count": 2,
   "metadata": {},
   "outputs": [
    {
     "data": {
      "image/png": "[encoded data removed]",
      "text/plain": [
       "<Figure size 171.139x432 with 1 Axes>"
      ]
     },
     "metadata": {},
     "output_type": "display_data"
    }
   ],
   "source": [
    "lat, lon = (39.898740, 140.247766)\n",
    "distance = 2000\n",
    "name = \"Akita\"\n",
    "\n",
    "mgm = GraphMaker.MapGraphMaker()\n",
    "mgm.make_graph(lat, lon, distance, \"Akita\")\n",
    "mgm.cp_dict_sd()\n",
    "mgm.save()\n",
    "mgm.plot_graph()\n",
    "\n",
    "data_loader = DataLoader.DataLoader(name, prior=\"uniform\")\n",
    "\n",
    "GEM = Mec.GraphExponentialMechanism(data_loader)\n",
    "PLMG = Mec.PlanarLaplaceMechanismOnGraph(data_loader)"
   ]
  },
  {
   "cell_type": "code",
   "execution_count": 3,
   "metadata": {},
   "outputs": [
    {
     "name": "stdout",
     "output_type": "stream",
     "text": [
      "0/4"
     ]
    },
    {
     "name": "stderr",
     "output_type": "stream",
     "text": [
      "/home/takagi/workspace/venv/lib/python3.8/site-packages/scipy/integrate/quadpack.py:864: IntegrationWarning: The maximum number of subdivisions (50) has been achieved.\n",
      "  If increasing the limit yields no improvement it is advised to analyze \n",
      "  the integrand in order to determine the difficulties.  If the position of a \n",
      "  local difficulty can be determined (singularity, discontinuity) one will \n",
      "  probably gain from splitting up the interval and calling the integrator \n",
      "  on the subranges.  Perhaps a special-purpose integrator should be used.\n",
      "  quad_r = quad(f, low, high, args=args, full_output=self.full_output,\n",
      "/home/takagi/workspace/venv/lib/python3.8/site-packages/scipy/integrate/quadpack.py:864: IntegrationWarning: The occurrence of roundoff error is detected, which prevents \n",
      "  the requested tolerance from being achieved.  The error may be \n",
      "  underestimated.\n",
      "  quad_r = quad(f, low, high, args=args, full_output=self.full_output,\n"
     ]
    },
    {
     "name": "stdout",
     "output_type": "stream",
     "text": [
      "1/4"
     ]
    },
    {
     "name": "stderr",
     "output_type": "stream",
     "text": [
      "/home/takagi/workspace/venv/lib/python3.8/site-packages/scipy/integrate/quadpack.py:864: IntegrationWarning: The integral is probably divergent, or slowly convergent.\n",
      "  quad_r = quad(f, low, high, args=args, full_output=self.full_output,\n"
     ]
    },
    {
     "name": "stdout",
     "output_type": "stream",
     "text": [
      "the optimal value: 47.229735697585404\n",
      "the optimal value: 52.22224154914156\n",
      "the optimal value: 172.29556783879764\n",
      "the optimal value: 165.84961576922268\n",
      "the optimal value: 296.41942710484693\n",
      "the optimal value: 273.08811722592475\n",
      "the optimal value: 358.3894589175166\n",
      "the optimal value: 347.10461806907193\n",
      "the optimal value: 367.50956268704067\n",
      "the optimal value: 365.48844927344936\n"
     ]
    }
   ],
   "source": [
    "epsilons = [0.01, 0.005, 0.003, 0.002, 0.001]\n",
    "gem_sqls = []\n",
    "gem_aes = []\n",
    "plmg_sqls = []\n",
    "plmg_aes = []\n",
    "for epsilon in epsilons:\n",
    "    GEM.build_distribution(epsilon)\n",
    "    PLMG.build_distribution(epsilon)\n",
    "    \n",
    "    gem_sql, gem_ae = score(GEM)\n",
    "    gem_sqls.append(gem_sql)\n",
    "    gem_aes.append(gem_ae)\n",
    "    \n",
    "    plmg_sql, plmg_ae = score(PLMG)\n",
    "    plmg_sqls.append(plmg_sql)\n",
    "    plmg_aes.append(plmg_ae)"
   ]
  },
  {
   "cell_type": "code",
   "execution_count": 4,
   "metadata": {},
   "outputs": [
    {
     "data": {
      "image/png": "[encoded data removed]",
      "text/plain": [
       "<Figure size 432x288 with 1 Axes>"
      ]
     },
     "metadata": {
      "needs_background": "light"
     },
     "output_type": "display_data"
    }
   ],
   "source": [
    "plt.plot(gem_aes, gem_sqls, label=\"GEM\")\n",
    "plt.plot(plmg_aes, plmg_sqls, label=\"PLMG\")\n",
    "plt.legend()\n",
    "plt.xlabel(\"AE\")\n",
    "plt.ylabel(\"SQL\")\n",
    "plt.show()"
   ]
  },
  {
   "cell_type": "code",
   "execution_count": null,
   "metadata": {},
   "outputs": [],
   "source": []
  }
 ],
 "metadata": {
  "kernelspec": {
   "display_name": "Python 3",
   "language": "python",
   "name": "python3"
  },
  "language_info": {
   "codemirror_mode": {
    "name": "ipython",
    "version": 3
   },
   "file_extension": ".py",
   "mimetype": "text/x-python",
   "name": "python",
   "nbconvert_exporter": "python",
   "pygments_lexer": "ipython3",
   "version": "3.8.2"
  }
 },
 "nbformat": 4,
 "nbformat_minor": 4
}
